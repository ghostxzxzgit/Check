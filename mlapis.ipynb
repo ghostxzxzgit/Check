{
 "cells": [
  {
   "cell_type": "markdown",
   "metadata": {},
   "source": [
    "<h1> Using Machine Learning APIs </h1>\n",
    "\n",
    "First, visit <a href=\"http://console.cloud.google.com/apis\">API console</a>, choose \"Credentials\" on the left-hand menu.  Choose \"Create Credentials\" and generate an API key for your application. You should probably restrict it by IP address to prevent abuse, but for now, just  leave that field blank and delete the API key after trying out this demo.\n",
    "\n",
    "Copy-paste your API Key here:"
   ]
  },
  {
   "cell_type": "code",
   "execution_count": 4,
   "metadata": {},
   "outputs": [],
   "source": [
    "APIKEY=\"\"  # Replace with your API key"
   ]
  },
  {
   "cell_type": "markdown",
   "metadata": {},
   "source": [
    "<b> Note: Make sure you generate an API Key and replace the value above. The sample key will not work.</b>\n",
    "\n",
    "From the same API console, choose \"Dashboard\" on the left-hand menu and \"Enable API\".\n",
    "\n",
    "Enable the following APIs for your project (search for them) if they are not already enabled:\n",
    "<ol>\n",
    "<li> Google Translate API </li>\n",
    "<li> Google Cloud Vision API </li>\n",
    "<li> Google Natural Language API </li>\n",
    "<li> Google Cloud Speech API </li>\n",
    "</ol>\n",
    "\n",
    "Finally, because we are calling the APIs from Python (clients in many other languages are available), let's install the Python package (it's not installed by default on Datalab)"
   ]
  },
  {
   "cell_type": "code",
   "execution_count": 5,
   "metadata": {},
   "outputs": [
    {
     "name": "stdout",
     "output_type": "stream",
     "text": [
      "Requirement already up-to-date: google-api-python-client in /opt/conda/lib/python3.7/site-packages (1.8.0)\n",
      "Requirement already satisfied, skipping upgrade: uritemplate<4dev,>=3.0.0 in /opt/conda/lib/python3.7/site-packages (from google-api-python-client) (3.0.1)\n",
      "Requirement already satisfied, skipping upgrade: httplib2<1dev,>=0.9.2 in /opt/conda/lib/python3.7/site-packages (from google-api-python-client) (0.17.0)\n",
      "Requirement already satisfied, skipping upgrade: google-auth-httplib2>=0.0.3 in /opt/conda/lib/python3.7/site-packages (from google-api-python-client) (0.0.3)\n",
      "Requirement already satisfied, skipping upgrade: six<2dev,>=1.6.1 in /opt/conda/lib/python3.7/site-packages (from google-api-python-client) (1.14.0)\n",
      "Requirement already satisfied, skipping upgrade: google-auth>=1.4.1 in /opt/conda/lib/python3.7/site-packages (from google-api-python-client) (1.11.2)\n",
      "Requirement already satisfied, skipping upgrade: google-api-core<2dev,>=1.13.0 in /opt/conda/lib/python3.7/site-packages (from google-api-python-client) (1.16.0)\n",
      "Requirement already satisfied, skipping upgrade: pyasn1-modules>=0.2.1 in /opt/conda/lib/python3.7/site-packages (from google-auth>=1.4.1->google-api-python-client) (0.2.7)\n",
      "Requirement already satisfied, skipping upgrade: cachetools<5.0,>=2.0.0 in /opt/conda/lib/python3.7/site-packages (from google-auth>=1.4.1->google-api-python-client) (3.1.1)\n",
      "Requirement already satisfied, skipping upgrade: setuptools>=40.3.0 in /opt/conda/lib/python3.7/site-packages (from google-auth>=1.4.1->google-api-python-client) (46.0.0.post20200311)\n",
      "Requirement already satisfied, skipping upgrade: rsa<4.1,>=3.1.4 in /opt/conda/lib/python3.7/site-packages (from google-auth>=1.4.1->google-api-python-client) (4.0)\n",
      "Requirement already satisfied, skipping upgrade: googleapis-common-protos<2.0dev,>=1.6.0 in /opt/conda/lib/python3.7/site-packages (from google-api-core<2dev,>=1.13.0->google-api-python-client) (1.51.0)\n",
      "Requirement already satisfied, skipping upgrade: protobuf>=3.4.0 in /opt/conda/lib/python3.7/site-packages (from google-api-core<2dev,>=1.13.0->google-api-python-client) (3.11.4)\n",
      "Requirement already satisfied, skipping upgrade: pytz in /opt/conda/lib/python3.7/site-packages (from google-api-core<2dev,>=1.13.0->google-api-python-client) (2019.3)\n",
      "Requirement already satisfied, skipping upgrade: requests<3.0.0dev,>=2.18.0 in /opt/conda/lib/python3.7/site-packages (from google-api-core<2dev,>=1.13.0->google-api-python-client) (2.23.0)\n",
      "Requirement already satisfied, skipping upgrade: pyasn1<0.5.0,>=0.4.6 in /opt/conda/lib/python3.7/site-packages (from pyasn1-modules>=0.2.1->google-auth>=1.4.1->google-api-python-client) (0.4.8)\n",
      "Requirement already satisfied, skipping upgrade: idna<3,>=2.5 in /opt/conda/lib/python3.7/site-packages (from requests<3.0.0dev,>=2.18.0->google-api-core<2dev,>=1.13.0->google-api-python-client) (2.9)\n",
      "Requirement already satisfied, skipping upgrade: chardet<4,>=3.0.2 in /opt/conda/lib/python3.7/site-packages (from requests<3.0.0dev,>=2.18.0->google-api-core<2dev,>=1.13.0->google-api-python-client) (3.0.4)\n",
      "Requirement already satisfied, skipping upgrade: certifi>=2017.4.17 in /opt/conda/lib/python3.7/site-packages (from requests<3.0.0dev,>=2.18.0->google-api-core<2dev,>=1.13.0->google-api-python-client) (2019.11.28)\n",
      "Requirement already satisfied, skipping upgrade: urllib3!=1.25.0,!=1.25.1,<1.26,>=1.21.1 in /opt/conda/lib/python3.7/site-packages (from requests<3.0.0dev,>=2.18.0->google-api-core<2dev,>=1.13.0->google-api-python-client) (1.25.7)\n"
     ]
    }
   ],
   "source": [
    "!pip install --upgrade google-api-python-client"
   ]
  },
  {
   "cell_type": "markdown",
   "metadata": {},
   "source": [
    "<h2> Invoke Translate API </h2>"
   ]
  },
  {
   "cell_type": "code",
   "execution_count": 17,
   "metadata": {},
   "outputs": [
    {
     "name": "stdout",
     "output_type": "stream",
     "text": [
      "damn its revolutionary -> putain de son révolutionnaire\n",
      "{'translations': [{'translatedText': 'putain de son révolutionnaire'}]}\n"
     ]
    }
   ],
   "source": [
    "# running Translate API\n",
    "from googleapiclient.discovery import build\n",
    "service = build('translate', 'v2', developerKey=APIKEY)\n",
    "\n",
    "# use the service\n",
    "inputs = ['damn its revolutionary']\n",
    "outputs = service.translations().list(source='en', target='fr', q=inputs).execute()\n",
    "# print outputs\n",
    "for input, output in zip(inputs, outputs['translations']):\n",
    "  print(\"{0} -> {1}\".format(input, output['translatedText']))\n",
    "\n",
    "print(outputs)"
   ]
  },
  {
   "cell_type": "markdown",
   "metadata": {},
   "source": [
    "<h2> Invoke Vision API </h2>\n",
    "\n",
    "The Vision API can work off an image in Cloud Storage or embedded directly into a POST message. I'll use Cloud Storage and do OCR on this image: <img src=\"https://www.publicdomainpictures.net/pictures/40000/velka/paris-street-signs.jpg\" width=\"200\" />.  That photograph is from https://www.publicdomainpictures.net/pictures/40000/velka/paris-street-signs.jpg\n"
   ]
  },
  {
   "cell_type": "code",
   "execution_count": 23,
   "metadata": {},
   "outputs": [
    {
     "name": "stdout",
     "output_type": "stream",
     "text": [
      "{'responses': [{'textAnnotations': [{'locale': 'fr', 'description': 'PLACE\\nCH. DE GAULLE-ETOILE\\n->\\nParc du\\nChamp de Mars\\nTROCADER0\\nGRLEG\\n', 'boundingPoly': {'vertices': [{'x': 751, 'y': 445}, {'x': 1727, 'y': 445}, {'x': 1727, 'y': 1377}, {'x': 751, 'y': 1377}]}}, {'description': 'PLACE', 'boundingPoly': {'vertices': [{'x': 1002, 'y': 479}, {'x': 1194, 'y': 465}, {'x': 1197, 'y': 508}, {'x': 1005, 'y': 522}]}}, {'description': 'CH.', 'boundingPoly': {'vertices': [{'x': 1002, 'y': 544}, {'x': 1073, 'y': 539}, {'x': 1076, 'y': 581}, {'x': 1005, 'y': 586}]}}, {'description': 'DE', 'boundingPoly': {'vertices': [{'x': 1098, 'y': 538}, {'x': 1160, 'y': 533}, {'x': 1163, 'y': 574}, {'x': 1101, 'y': 579}]}}, {'description': 'GAULLE-ETOILE', 'boundingPoly': {'vertices': [{'x': 1184, 'y': 529}, {'x': 1594, 'y': 498}, {'x': 1597, 'y': 543}, {'x': 1187, 'y': 574}]}}, {'description': '->', 'boundingPoly': {'vertices': [{'x': 1638, 'y': 450}, {'x': 1724, 'y': 445}, {'x': 1727, 'y': 510}, {'x': 1642, 'y': 515}]}}, {'description': 'Parc', 'boundingPoly': {'vertices': [{'x': 1112, 'y': 729}, {'x': 1233, 'y': 721}, {'x': 1236, 'y': 765}, {'x': 1115, 'y': 773}]}}, {'description': 'du', 'boundingPoly': {'vertices': [{'x': 1272, 'y': 721}, {'x': 1333, 'y': 717}, {'x': 1336, 'y': 760}, {'x': 1275, 'y': 764}]}}, {'description': 'Champ', 'boundingPoly': {'vertices': [{'x': 1113, 'y': 795}, {'x': 1280, 'y': 785}, {'x': 1283, 'y': 841}, {'x': 1117, 'y': 852}]}}, {'description': 'de', 'boundingPoly': {'vertices': [{'x': 1320, 'y': 785}, {'x': 1377, 'y': 781}, {'x': 1380, 'y': 825}, {'x': 1323, 'y': 829}]}}, {'description': 'Mars', 'boundingPoly': {'vertices': [{'x': 1413, 'y': 780}, {'x': 1542, 'y': 772}, {'x': 1545, 'y': 819}, {'x': 1416, 'y': 827}]}}, {'description': 'TROCADER0', 'boundingPoly': {'vertices': [{'x': 1138, 'y': 987}, {'x': 1543, 'y': 974}, {'x': 1544, 'y': 1024}, {'x': 1140, 'y': 1037}]}}, {'description': 'GRLEG', 'boundingPoly': {'vertices': [{'x': 784, 'y': 1377}, {'x': 751, 'y': 1377}, {'x': 751, 'y': 1367}, {'x': 784, 'y': 1367}]}}], 'fullTextAnnotation': {'pages': [{'property': {'detectedLanguages': [{'languageCode': 'fr', 'confidence': 0.63}, {'languageCode': 'pt', 'confidence': 0.16}, {'languageCode': 'en', 'confidence': 0.09}, {'languageCode': 'is', 'confidence': 0.09}]}, 'width': 1920, 'height': 1440, 'blocks': [{'property': {'detectedLanguages': [{'languageCode': 'fr', 'confidence': 0.78}, {'languageCode': 'en', 'confidence': 0.22}]}, 'boundingBox': {'vertices': [{'x': 997, 'y': 479}, {'x': 1589, 'y': 436}, {'x': 1597, 'y': 545}, {'x': 1005, 'y': 588}]}, 'paragraphs': [{'property': {'detectedLanguages': [{'languageCode': 'fr', 'confidence': 0.78}, {'languageCode': 'en', 'confidence': 0.22}]}, 'boundingBox': {'vertices': [{'x': 997, 'y': 479}, {'x': 1589, 'y': 436}, {'x': 1597, 'y': 545}, {'x': 1005, 'y': 588}]}, 'words': [{'property': {'detectedLanguages': [{'languageCode': 'en'}]}, 'boundingBox': {'vertices': [{'x': 1002, 'y': 479}, {'x': 1194, 'y': 465}, {'x': 1197, 'y': 508}, {'x': 1005, 'y': 522}]}, 'symbols': [{'property': {'detectedLanguages': [{'languageCode': 'en'}]}, 'boundingBox': {'vertices': [{'x': 1002, 'y': 481}, {'x': 1030, 'y': 479}, {'x': 1033, 'y': 519}, {'x': 1005, 'y': 521}]}, 'text': 'P'}, {'property': {'detectedLanguages': [{'languageCode': 'en'}]}, 'boundingBox': {'vertices': [{'x': 1044, 'y': 477}, {'x': 1067, 'y': 475}, {'x': 1070, 'y': 516}, {'x': 1047, 'y': 518}]}, 'text': 'L'}, {'property': {'detectedLanguages': [{'languageCode': 'en'}]}, 'boundingBox': {'vertices': [{'x': 1078, 'y': 475}, {'x': 1108, 'y': 473}, {'x': 1111, 'y': 514}, {'x': 1081, 'y': 516}]}, 'text': 'A'}, {'property': {'detectedLanguages': [{'languageCode': 'en'}]}, 'boundingBox': {'vertices': [{'x': 1123, 'y': 470}, {'x': 1152, 'y': 468}, {'x': 1155, 'y': 511}, {'x': 1126, 'y': 513}]}, 'text': 'C'}, {'property': {'detectedLanguages': [{'languageCode': 'en'}], 'detectedBreak': {'type': 'EOL_SURE_SPACE'}}, 'boundingBox': {'vertices': [{'x': 1167, 'y': 467}, {'x': 1193, 'y': 465}, {'x': 1196, 'y': 507}, {'x': 1170, 'y': 509}]}, 'text': 'E'}]}, {'property': {'detectedLanguages': [{'languageCode': 'fr'}]}, 'boundingBox': {'vertices': [{'x': 1002, 'y': 544}, {'x': 1073, 'y': 539}, {'x': 1076, 'y': 581}, {'x': 1005, 'y': 586}]}, 'symbols': [{'property': {'detectedLanguages': [{'languageCode': 'fr'}]}, 'boundingBox': {'vertices': [{'x': 1002, 'y': 544}, {'x': 1058, 'y': 540}, {'x': 1061, 'y': 582}, {'x': 1005, 'y': 586}]}, 'text': 'C'}, {'property': {'detectedLanguages': [{'languageCode': 'fr'}]}, 'boundingBox': {'vertices': [{'x': 1059, 'y': 540}, {'x': 1067, 'y': 539}, {'x': 1070, 'y': 581}, {'x': 1062, 'y': 582}]}, 'text': 'H'}, {'property': {'detectedLanguages': [{'languageCode': 'fr'}], 'detectedBreak': {'type': 'SPACE'}}, 'boundingBox': {'vertices': [{'x': 1068, 'y': 539}, {'x': 1073, 'y': 539}, {'x': 1076, 'y': 581}, {'x': 1071, 'y': 581}]}, 'text': '.'}]}, {'property': {'detectedLanguages': [{'languageCode': 'fr'}]}, 'boundingBox': {'vertices': [{'x': 1098, 'y': 538}, {'x': 1160, 'y': 533}, {'x': 1163, 'y': 574}, {'x': 1101, 'y': 579}]}, 'symbols': [{'property': {'detectedLanguages': [{'languageCode': 'fr'}]}, 'boundingBox': {'vertices': [{'x': 1098, 'y': 538}, {'x': 1128, 'y': 536}, {'x': 1131, 'y': 576}, {'x': 1101, 'y': 578}]}, 'text': 'D'}, {'property': {'detectedLanguages': [{'languageCode': 'fr'}], 'detectedBreak': {'type': 'SPACE'}}, 'boundingBox': {'vertices': [{'x': 1132, 'y': 535}, {'x': 1160, 'y': 533}, {'x': 1163, 'y': 574}, {'x': 1135, 'y': 576}]}, 'text': 'E'}]}, {'property': {'detectedLanguages': [{'languageCode': 'fr'}]}, 'boundingBox': {'vertices': [{'x': 1184, 'y': 529}, {'x': 1594, 'y': 498}, {'x': 1597, 'y': 543}, {'x': 1187, 'y': 574}]}, 'symbols': [{'property': {'detectedLanguages': [{'languageCode': 'fr'}]}, 'boundingBox': {'vertices': [{'x': 1184, 'y': 530}, {'x': 1214, 'y': 528}, {'x': 1217, 'y': 571}, {'x': 1187, 'y': 573}]}, 'text': 'G'}, {'property': {'detectedLanguages': [{'languageCode': 'fr'}]}, 'boundingBox': {'vertices': [{'x': 1217, 'y': 528}, {'x': 1248, 'y': 526}, {'x': 1251, 'y': 567}, {'x': 1220, 'y': 569}]}, 'text': 'A'}, {'property': {'detectedLanguages': [{'languageCode': 'fr'}]}, 'boundingBox': {'vertices': [{'x': 1254, 'y': 526}, {'x': 1285, 'y': 524}, {'x': 1288, 'y': 566}, {'x': 1257, 'y': 568}]}, 'text': 'U'}, {'property': {'detectedLanguages': [{'languageCode': 'fr'}]}, 'boundingBox': {'vertices': [{'x': 1289, 'y': 524}, {'x': 1313, 'y': 522}, {'x': 1316, 'y': 563}, {'x': 1292, 'y': 565}]}, 'text': 'L'}, {'property': {'detectedLanguages': [{'languageCode': 'fr'}]}, 'boundingBox': {'vertices': [{'x': 1318, 'y': 522}, {'x': 1343, 'y': 520}, {'x': 1346, 'y': 561}, {'x': 1321, 'y': 563}]}, 'text': 'L'}, {'property': {'detectedLanguages': [{'languageCode': 'fr'}]}, 'boundingBox': {'vertices': [{'x': 1346, 'y': 519}, {'x': 1375, 'y': 517}, {'x': 1378, 'y': 559}, {'x': 1349, 'y': 561}]}, 'text': 'E'}, {'property': {'detectedLanguages': [{'languageCode': 'fr'}]}, 'boundingBox': {'vertices': [{'x': 1390, 'y': 533}, {'x': 1405, 'y': 532}, {'x': 1406, 'y': 540}, {'x': 1391, 'y': 541}]}, 'text': '-'}, {'property': {'detectedLanguages': [{'languageCode': 'fr'}]}, 'boundingBox': {'vertices': [{'x': 1416, 'y': 513}, {'x': 1444, 'y': 511}, {'x': 1447, 'y': 553}, {'x': 1419, 'y': 555}]}, 'text': 'E'}, {'property': {'detectedLanguages': [{'languageCode': 'fr'}]}, 'boundingBox': {'vertices': [{'x': 1450, 'y': 511}, {'x': 1477, 'y': 509}, {'x': 1480, 'y': 551}, {'x': 1453, 'y': 553}]}, 'text': 'T'}, {'property': {'detectedLanguages': [{'languageCode': 'fr'}]}, 'boundingBox': {'vertices': [{'x': 1480, 'y': 508}, {'x': 1512, 'y': 506}, {'x': 1515, 'y': 550}, {'x': 1483, 'y': 552}]}, 'text': 'O'}, {'property': {'detectedLanguages': [{'languageCode': 'fr'}]}, 'boundingBox': {'vertices': [{'x': 1517, 'y': 506}, {'x': 1529, 'y': 505}, {'x': 1532, 'y': 547}, {'x': 1520, 'y': 548}]}, 'text': 'I'}, {'property': {'detectedLanguages': [{'languageCode': 'fr'}]}, 'boundingBox': {'vertices': [{'x': 1533, 'y': 505}, {'x': 1559, 'y': 503}, {'x': 1562, 'y': 545}, {'x': 1536, 'y': 547}]}, 'text': 'L'}, {'property': {'detectedLanguages': [{'languageCode': 'fr'}], 'detectedBreak': {'type': 'EOL_SURE_SPACE'}}, 'boundingBox': {'vertices': [{'x': 1564, 'y': 501}, {'x': 1594, 'y': 499}, {'x': 1597, 'y': 542}, {'x': 1567, 'y': 544}]}, 'text': 'E'}]}]}], 'blockType': 'TEXT'}, {'boundingBox': {'vertices': [{'x': 1638, 'y': 450}, {'x': 1724, 'y': 445}, {'x': 1727, 'y': 510}, {'x': 1642, 'y': 515}]}, 'paragraphs': [{'boundingBox': {'vertices': [{'x': 1638, 'y': 450}, {'x': 1724, 'y': 445}, {'x': 1727, 'y': 510}, {'x': 1642, 'y': 515}]}, 'words': [{'boundingBox': {'vertices': [{'x': 1638, 'y': 450}, {'x': 1724, 'y': 445}, {'x': 1727, 'y': 510}, {'x': 1642, 'y': 515}]}, 'symbols': [{'boundingBox': {'vertices': [{'x': 1638, 'y': 450}, {'x': 1703, 'y': 446}, {'x': 1706, 'y': 511}, {'x': 1642, 'y': 515}]}, 'text': '-'}, {'property': {'detectedBreak': {'type': 'EOL_SURE_SPACE'}}, 'boundingBox': {'vertices': [{'x': 1702, 'y': 446}, {'x': 1723, 'y': 445}, {'x': 1726, 'y': 510}, {'x': 1706, 'y': 511}]}, 'text': '>'}]}]}], 'blockType': 'TEXT'}, {'property': {'detectedLanguages': [{'languageCode': 'fr', 'confidence': 1}]}, 'boundingBox': {'vertices': [{'x': 1112, 'y': 729}, {'x': 1333, 'y': 714}, {'x': 1336, 'y': 760}, {'x': 1115, 'y': 775}]}, 'paragraphs': [{'property': {'detectedLanguages': [{'languageCode': 'fr', 'confidence': 1}]}, 'boundingBox': {'vertices': [{'x': 1112, 'y': 729}, {'x': 1333, 'y': 714}, {'x': 1336, 'y': 760}, {'x': 1115, 'y': 775}]}, 'words': [{'property': {'detectedLanguages': [{'languageCode': 'fr'}]}, 'boundingBox': {'vertices': [{'x': 1112, 'y': 729}, {'x': 1233, 'y': 721}, {'x': 1236, 'y': 765}, {'x': 1115, 'y': 773}]}, 'symbols': [{'property': {'detectedLanguages': [{'languageCode': 'fr'}]}, 'boundingBox': {'vertices': [{'x': 1112, 'y': 729}, {'x': 1145, 'y': 727}, {'x': 1148, 'y': 768}, {'x': 1115, 'y': 770}]}, 'text': 'P'}, {'property': {'detectedLanguages': [{'languageCode': 'fr'}]}, 'boundingBox': {'vertices': [{'x': 1149, 'y': 739}, {'x': 1174, 'y': 737}, {'x': 1176, 'y': 768}, {'x': 1151, 'y': 770}]}, 'text': 'a'}, {'property': {'detectedLanguages': [{'languageCode': 'fr'}]}, 'boundingBox': {'vertices': [{'x': 1185, 'y': 737}, {'x': 1204, 'y': 736}, {'x': 1206, 'y': 767}, {'x': 1187, 'y': 768}]}, 'text': 'r'}, {'property': {'detectedLanguages': [{'languageCode': 'fr'}], 'detectedBreak': {'type': 'SPACE'}}, 'boundingBox': {'vertices': [{'x': 1211, 'y': 737}, {'x': 1234, 'y': 735}, {'x': 1236, 'y': 764}, {'x': 1213, 'y': 766}]}, 'text': 'c'}]}, {'property': {'detectedLanguages': [{'languageCode': 'fr'}]}, 'boundingBox': {'vertices': [{'x': 1272, 'y': 721}, {'x': 1333, 'y': 717}, {'x': 1336, 'y': 760}, {'x': 1275, 'y': 764}]}, 'symbols': [{'property': {'detectedLanguages': [{'languageCode': 'fr'}]}, 'boundingBox': {'vertices': [{'x': 1272, 'y': 721}, {'x': 1303, 'y': 719}, {'x': 1306, 'y': 762}, {'x': 1275, 'y': 764}]}, 'text': 'd'}, {'property': {'detectedLanguages': [{'languageCode': 'fr'}], 'detectedBreak': {'type': 'EOL_SURE_SPACE'}}, 'boundingBox': {'vertices': [{'x': 1307, 'y': 731}, {'x': 1334, 'y': 729}, {'x': 1336, 'y': 760}, {'x': 1309, 'y': 762}]}, 'text': 'u'}]}]}], 'blockType': 'TEXT'}, {'property': {'detectedLanguages': [{'languageCode': 'fr', 'confidence': 1}]}, 'boundingBox': {'vertices': [{'x': 1113, 'y': 795}, {'x': 1542, 'y': 768}, {'x': 1546, 'y': 825}, {'x': 1117, 'y': 852}]}, 'paragraphs': [{'property': {'detectedLanguages': [{'languageCode': 'fr', 'confidence': 1}]}, 'boundingBox': {'vertices': [{'x': 1113, 'y': 795}, {'x': 1542, 'y': 768}, {'x': 1546, 'y': 825}, {'x': 1117, 'y': 852}]}, 'words': [{'property': {'detectedLanguages': [{'languageCode': 'fr'}]}, 'boundingBox': {'vertices': [{'x': 1113, 'y': 795}, {'x': 1280, 'y': 785}, {'x': 1283, 'y': 841}, {'x': 1117, 'y': 852}]}, 'symbols': [{'property': {'detectedLanguages': [{'languageCode': 'fr'}]}, 'boundingBox': {'vertices': [{'x': 1113, 'y': 795}, {'x': 1178, 'y': 791}, {'x': 1181, 'y': 848}, {'x': 1117, 'y': 852}]}, 'text': 'C'}, {'property': {'detectedLanguages': [{'languageCode': 'fr'}]}, 'boundingBox': {'vertices': [{'x': 1179, 'y': 791}, {'x': 1198, 'y': 790}, {'x': 1202, 'y': 847}, {'x': 1183, 'y': 848}]}, 'text': 'h'}, {'property': {'detectedLanguages': [{'languageCode': 'fr'}]}, 'boundingBox': {'vertices': [{'x': 1199, 'y': 790}, {'x': 1208, 'y': 789}, {'x': 1212, 'y': 846}, {'x': 1203, 'y': 847}]}, 'text': 'a'}, {'property': {'detectedLanguages': [{'languageCode': 'fr'}]}, 'boundingBox': {'vertices': [{'x': 1209, 'y': 789}, {'x': 1259, 'y': 786}, {'x': 1262, 'y': 843}, {'x': 1213, 'y': 846}]}, 'text': 'm'}, {'property': {'detectedLanguages': [{'languageCode': 'fr'}], 'detectedBreak': {'type': 'SPACE'}}, 'boundingBox': {'vertices': [{'x': 1260, 'y': 786}, {'x': 1280, 'y': 785}, {'x': 1284, 'y': 842}, {'x': 1264, 'y': 843}]}, 'text': 'p'}]}, {'property': {'detectedLanguages': [{'languageCode': 'fr'}]}, 'boundingBox': {'vertices': [{'x': 1320, 'y': 785}, {'x': 1377, 'y': 781}, {'x': 1380, 'y': 825}, {'x': 1323, 'y': 829}]}, 'symbols': [{'property': {'detectedLanguages': [{'languageCode': 'fr'}]}, 'boundingBox': {'vertices': [{'x': 1320, 'y': 785}, {'x': 1351, 'y': 783}, {'x': 1354, 'y': 827}, {'x': 1323, 'y': 829}]}, 'text': 'd'}, {'property': {'detectedLanguages': [{'languageCode': 'fr'}], 'detectedBreak': {'type': 'SPACE'}}, 'boundingBox': {'vertices': [{'x': 1352, 'y': 783}, {'x': 1377, 'y': 781}, {'x': 1380, 'y': 825}, {'x': 1355, 'y': 827}]}, 'text': 'e'}]}, {'property': {'detectedLanguages': [{'languageCode': 'fr'}]}, 'boundingBox': {'vertices': [{'x': 1413, 'y': 780}, {'x': 1542, 'y': 772}, {'x': 1545, 'y': 819}, {'x': 1416, 'y': 827}]}, 'symbols': [{'property': {'detectedLanguages': [{'languageCode': 'fr'}]}, 'boundingBox': {'vertices': [{'x': 1413, 'y': 782}, {'x': 1462, 'y': 779}, {'x': 1465, 'y': 825}, {'x': 1416, 'y': 828}]}, 'text': 'M'}, {'property': {'detectedLanguages': [{'languageCode': 'fr'}]}, 'boundingBox': {'vertices': [{'x': 1463, 'y': 777}, {'x': 1503, 'y': 774}, {'x': 1506, 'y': 820}, {'x': 1466, 'y': 823}]}, 'text': 'a'}, {'property': {'detectedLanguages': [{'languageCode': 'fr'}]}, 'boundingBox': {'vertices': [{'x': 1504, 'y': 775}, {'x': 1523, 'y': 774}, {'x': 1526, 'y': 820}, {'x': 1507, 'y': 821}]}, 'text': 'r'}, {'property': {'detectedLanguages': [{'languageCode': 'fr'}], 'detectedBreak': {'type': 'EOL_SURE_SPACE'}}, 'boundingBox': {'vertices': [{'x': 1523, 'y': 774}, {'x': 1542, 'y': 773}, {'x': 1545, 'y': 819}, {'x': 1526, 'y': 820}]}, 'text': 's'}]}]}], 'blockType': 'TEXT'}, {'property': {'detectedLanguages': [{'languageCode': 'pt', 'confidence': 1}]}, 'boundingBox': {'vertices': [{'x': 1138, 'y': 987}, {'x': 1543, 'y': 974}, {'x': 1544, 'y': 1024}, {'x': 1140, 'y': 1037}]}, 'paragraphs': [{'property': {'detectedLanguages': [{'languageCode': 'pt', 'confidence': 1}]}, 'boundingBox': {'vertices': [{'x': 1138, 'y': 987}, {'x': 1543, 'y': 974}, {'x': 1544, 'y': 1024}, {'x': 1140, 'y': 1037}]}, 'words': [{'property': {'detectedLanguages': [{'languageCode': 'pt'}]}, 'boundingBox': {'vertices': [{'x': 1138, 'y': 987}, {'x': 1543, 'y': 974}, {'x': 1544, 'y': 1024}, {'x': 1140, 'y': 1037}]}, 'symbols': [{'property': {'detectedLanguages': [{'languageCode': 'pt'}]}, 'boundingBox': {'vertices': [{'x': 1138, 'y': 994}, {'x': 1165, 'y': 993}, {'x': 1166, 'y': 1036}, {'x': 1139, 'y': 1037}]}, 'text': 'T'}, {'property': {'detectedLanguages': [{'languageCode': 'pt'}]}, 'boundingBox': {'vertices': [{'x': 1178, 'y': 992}, {'x': 1207, 'y': 991}, {'x': 1208, 'y': 1034}, {'x': 1179, 'y': 1035}]}, 'text': 'R'}, {'property': {'detectedLanguages': [{'languageCode': 'pt'}]}, 'boundingBox': {'vertices': [{'x': 1224, 'y': 989}, {'x': 1257, 'y': 988}, {'x': 1258, 'y': 1033}, {'x': 1225, 'y': 1034}]}, 'text': 'O'}, {'property': {'detectedLanguages': [{'languageCode': 'pt'}]}, 'boundingBox': {'vertices': [{'x': 1272, 'y': 987}, {'x': 1305, 'y': 986}, {'x': 1306, 'y': 1031}, {'x': 1273, 'y': 1032}]}, 'text': 'C'}, {'property': {'detectedLanguages': [{'languageCode': 'pt'}]}, 'boundingBox': {'vertices': [{'x': 1316, 'y': 986}, {'x': 1347, 'y': 985}, {'x': 1348, 'y': 1030}, {'x': 1317, 'y': 1031}]}, 'text': 'A'}, {'property': {'detectedLanguages': [{'languageCode': 'pt'}]}, 'boundingBox': {'vertices': [{'x': 1364, 'y': 984}, {'x': 1393, 'y': 983}, {'x': 1394, 'y': 1028}, {'x': 1365, 'y': 1029}]}, 'text': 'D'}, {'property': {'detectedLanguages': [{'languageCode': 'pt'}]}, 'boundingBox': {'vertices': [{'x': 1412, 'y': 981}, {'x': 1441, 'y': 980}, {'x': 1443, 'y': 1027}, {'x': 1414, 'y': 1028}]}, 'text': 'E'}, {'property': {'detectedLanguages': [{'languageCode': 'pt'}]}, 'boundingBox': {'vertices': [{'x': 1460, 'y': 979}, {'x': 1491, 'y': 978}, {'x': 1493, 'y': 1025}, {'x': 1462, 'y': 1026}]}, 'text': 'R'}, {'property': {'detectedLanguages': [{'languageCode': 'pt'}], 'detectedBreak': {'type': 'EOL_SURE_SPACE'}}, 'boundingBox': {'vertices': [{'x': 1508, 'y': 975}, {'x': 1543, 'y': 974}, {'x': 1545, 'y': 1023}, {'x': 1510, 'y': 1024}]}, 'text': '0'}]}]}], 'blockType': 'TEXT'}, {'property': {'detectedLanguages': [{'languageCode': 'is', 'confidence': 1}]}, 'boundingBox': {'vertices': [{'x': 784, 'y': 1377}, {'x': 751, 'y': 1377}, {'x': 751, 'y': 1367}, {'x': 784, 'y': 1367}]}, 'paragraphs': [{'property': {'detectedLanguages': [{'languageCode': 'is', 'confidence': 1}]}, 'boundingBox': {'vertices': [{'x': 784, 'y': 1377}, {'x': 751, 'y': 1377}, {'x': 751, 'y': 1367}, {'x': 784, 'y': 1367}]}, 'words': [{'property': {'detectedLanguages': [{'languageCode': 'is'}]}, 'boundingBox': {'vertices': [{'x': 784, 'y': 1377}, {'x': 751, 'y': 1377}, {'x': 751, 'y': 1367}, {'x': 784, 'y': 1367}]}, 'symbols': [{'property': {'detectedLanguages': [{'languageCode': 'is'}]}, 'boundingBox': {'vertices': [{'x': 784, 'y': 1377}, {'x': 775, 'y': 1377}, {'x': 775, 'y': 1367}, {'x': 784, 'y': 1367}]}, 'text': 'G'}, {'property': {'detectedLanguages': [{'languageCode': 'is'}]}, 'boundingBox': {'vertices': [{'x': 774, 'y': 1377}, {'x': 771, 'y': 1377}, {'x': 771, 'y': 1367}, {'x': 774, 'y': 1367}]}, 'text': 'R'}, {'property': {'detectedLanguages': [{'languageCode': 'is'}]}, 'boundingBox': {'vertices': [{'x': 770, 'y': 1377}, {'x': 765, 'y': 1377}, {'x': 765, 'y': 1367}, {'x': 770, 'y': 1367}]}, 'text': 'L'}, {'property': {'detectedLanguages': [{'languageCode': 'is'}]}, 'boundingBox': {'vertices': [{'x': 764, 'y': 1377}, {'x': 758, 'y': 1377}, {'x': 758, 'y': 1367}, {'x': 764, 'y': 1367}]}, 'text': 'E'}, {'property': {'detectedLanguages': [{'languageCode': 'is'}], 'detectedBreak': {'type': 'EOL_SURE_SPACE'}}, 'boundingBox': {'vertices': [{'x': 757, 'y': 1377}, {'x': 751, 'y': 1377}, {'x': 751, 'y': 1367}, {'x': 757, 'y': 1367}]}, 'text': 'G'}]}]}], 'blockType': 'TEXT'}]}], 'text': 'PLACE\\nCH. DE GAULLE-ETOILE\\n->\\nParc du\\nChamp de Mars\\nTROCADER0\\nGRLEG\\n'}}]}\n"
     ]
    }
   ],
   "source": [
    "# Running Vision API\n",
    "import requests \n",
    "import base64\n",
    "IMAGE=\"https://www.publicdomainpictures.net/pictures/40000/velka/paris-street-signs.jpg\"\n",
    "vservice = build('vision', 'v1', developerKey=APIKEY)\n",
    "request = vservice.images().annotate(body={\n",
    "        'requests': [{\n",
    "                'image': {\n",
    "                    'source': {\n",
    "                        'imageUri': IMAGE\n",
    "                    }\n",
    "                },\n",
    "                'features': [{\n",
    "                    'type': 'TEXT_DETECTION',\n",
    "                    'maxResults': 3,\n",
    "                }]\n",
    "            }],\n",
    "        })\n",
    "responses = request.execute(num_retries=3)\n",
    "print(responses)"
   ]
  },
  {
   "cell_type": "code",
   "execution_count": 22,
   "metadata": {},
   "outputs": [
    {
     "name": "stdout",
     "output_type": "stream",
     "text": [
      "fr PLACE\n",
      "CH. DE GAULLE-ETOILE\n",
      "->\n",
      "Parc du\n",
      "Champ de Mars\n",
      "TROCADER0\n",
      "GRLEG\n",
      "\n"
     ]
    }
   ],
   "source": [
    "foreigntext = responses['responses'][0]['textAnnotations'][0]['description']\n",
    "foreignlang = responses['responses'][0]['textAnnotations'][0]['locale']\n",
    "print(foreignlang, foreigntext)"
   ]
  },
  {
   "cell_type": "markdown",
   "metadata": {},
   "source": [
    "<h2> Translate sign </h2>"
   ]
  },
  {
   "cell_type": "code",
   "execution_count": 24,
   "metadata": {},
   "outputs": [
    {
     "name": "stdout",
     "output_type": "stream",
     "text": [
      "PLACE\n",
      "CH. DE GAULLE-ETOILE\n",
      "->\n",
      "Parc du\n",
      "Champ de Mars\n",
      "TROCADER0\n",
      "GRLEG\n",
      " -> PLACE CH. DE GAULLE-ETOILE -&gt; Champ de Mars Park TROCADER0 GRLEG\n"
     ]
    }
   ],
   "source": [
    "inputs=[foreigntext]\n",
    "outputs = service.translations().list(source=foreignlang, target='en', q=inputs).execute()\n",
    "# print(outputs)\n",
    "for input, output in zip(inputs, outputs['translations']):\n",
    "  print(\"{0} -> {1}\".format(input, output['translatedText']))"
   ]
  },
  {
   "cell_type": "markdown",
   "metadata": {},
   "source": [
    "<h2> Sentiment analysis with Language API </h2>\n",
    "\n",
    "Let's evaluate the sentiment of some famous quotes using Google Cloud Natural Language API."
   ]
  },
  {
   "cell_type": "code",
   "execution_count": 25,
   "metadata": {},
   "outputs": [
    {
     "name": "stdout",
     "output_type": "stream",
     "text": [
      "POLARITY=1 MAGNITUDE=0.9 for To succeed, you must have tremendous perseverance, tremendous will.\n",
      "POLARITY=-1 MAGNITUDE=0.5 for It’s not that I’m so smart, it’s just that I stay with problems longer.\n",
      "POLARITY=1 MAGNITUDE=0.9 for Love is quivering happiness.\n",
      "POLARITY=1 MAGNITUDE=0.9 for Love is of all passions the strongest, for it attacks simultaneously the head, the heart, and the senses.\n",
      "POLARITY=1 MAGNITUDE=0.2 for What difference does it make to the dead, the orphans and the homeless, whether the mad destruction is wrought under the name of totalitarianism or in the holy name of liberty or democracy?\n",
      "POLARITY=-1 MAGNITUDE=0.4 for When someone you love dies, and you’re not expecting it, you don’t lose her all at once; you lose her in pieces over a long time — the way the mail stops coming, and her scent fades from the pillows and even from the clothes in her closet and drawers. \n"
     ]
    }
   ],
   "source": [
    "lservice = build('language', 'v1beta1', developerKey=APIKEY)\n",
    "quotes = [\n",
    "  'To succeed, you must have tremendous perseverance, tremendous will.',\n",
    "  'It’s not that I’m so smart, it’s just that I stay with problems longer.',\n",
    "  'Love is quivering happiness.',\n",
    "  'Love is of all passions the strongest, for it attacks simultaneously the head, the heart, and the senses.',\n",
    "  'What difference does it make to the dead, the orphans and the homeless, whether the mad destruction is wrought under the name of totalitarianism or in the holy name of liberty or democracy?',\n",
    "  'When someone you love dies, and you’re not expecting it, you don’t lose her all at once; you lose her in pieces over a long time — the way the mail stops coming, and her scent fades from the pillows and even from the clothes in her closet and drawers. '\n",
    "]\n",
    "for quote in quotes:\n",
    "  response = lservice.documents().analyzeSentiment(\n",
    "    body={\n",
    "      'document': {\n",
    "         'type': 'PLAIN_TEXT',\n",
    "         'content': quote\n",
    "      }\n",
    "    }).execute()\n",
    "  polarity = response['documentSentiment']['polarity']\n",
    "  magnitude = response['documentSentiment']['magnitude']\n",
    "  print('POLARITY=%s MAGNITUDE=%s for %s' % (polarity, magnitude, quote))"
   ]
  },
  {
   "cell_type": "markdown",
   "metadata": {},
   "source": [
    "<h2> Speech API </h2>\n",
    "\n",
    "The Speech API can work on streaming data, audio content encoded and embedded directly into the POST message, or on a file on Cloud Storage. Here I'll pass in this <a href=\"https://storage.googleapis.com/cloud-training-demos/vision/audio.raw\">audio file</a> in Cloud Storage."
   ]
  },
  {
   "cell_type": "code",
   "execution_count": 26,
   "metadata": {},
   "outputs": [
    {
     "name": "stdout",
     "output_type": "stream",
     "text": [
      "{'results': [{'alternatives': [{'transcript': 'how old is the Brooklyn Bridge', 'confidence': 0.98314303}]}]}\n"
     ]
    }
   ],
   "source": [
    "sservice = build('speech', 'v1', developerKey=APIKEY)\n",
    "response = sservice.speech().recognize(\n",
    "    body={\n",
    "        'config': {\n",
    "            'languageCode' : 'en-US',\n",
    "            'encoding': 'LINEAR16',\n",
    "            'sampleRateHertz': 16000\n",
    "        },\n",
    "        'audio': {\n",
    "            'uri': 'gs://cloud-training-demos/vision/audio.raw'\n",
    "            }\n",
    "        }).execute()\n",
    "print(response)"
   ]
  },
  {
   "cell_type": "code",
   "execution_count": 11,
   "metadata": {},
   "outputs": [
    {
     "name": "stdout",
     "output_type": "stream",
     "text": [
      "how old is the Brooklyn Bridge\n",
      "Confidence=0.983604\n"
     ]
    }
   ],
   "source": [
    "print(response['results'][0]['alternatives'][0]['transcript'])\n",
    "print('Confidence=%f' % response['results'][0]['alternatives'][0]['confidence'])"
   ]
  },
  {
   "cell_type": "markdown",
   "metadata": {},
   "source": [
    "<h2> Clean up </h2>\n",
    "\n",
    "Remember to delete the API key by visiting <a href=\"http://console.cloud.google.com/apis\">API console</a>.\n",
    "\n",
    "If necessary, commit all your notebooks to git.\n",
    "\n",
    "If you are running Datalab on a Compute Engine VM or delegating to one, remember to stop or shut it down so that you are not charged.\n"
   ]
  },
  {
   "cell_type": "markdown",
   "metadata": {},
   "source": [
    "## Challenge Exercise\n",
    "\n",
    "Here are a few portraits from the Metropolitan Museum of Art, New York (they are part of a [BigQuery public dataset](https://bigquery.cloud.google.com/dataset/bigquery-public-data:the_met) ):\n",
    "\n",
    "* gs://cloud-training-demos/images/met/APS6880.jpg\n",
    "* gs://cloud-training-demos/images/met/DP205018.jpg\n",
    "* gs://cloud-training-demos/images/met/DP290402.jpg\n",
    "* gs://cloud-training-demos/images/met/DP700302.jpg\n",
    "\n",
    "Use the Vision API to identify which of these images depict happy people and which ones depict unhappy people.\n",
    "\n",
    "Hint (highlight to see): <p style=\"color:white\">You will need to look for joyLikelihood and/or sorrowLikelihood from the response.</p>"
   ]
  },
  {
   "cell_type": "markdown",
   "metadata": {},
   "source": [
    "Copyright 2018 Google Inc.\n",
    "Licensed under the Apache License, Version 2.0 (the \"License\"); you may not use this file except in compliance with the License. You may obtain a copy of the License at\n",
    "http://www.apache.org/licenses/LICENSE-2.0\n",
    "Unless required by applicable law or agreed to in writing, software distributed under the License is distributed on an \"AS IS\" BASIS, WITHOUT WARRANTIES OR CONDITIONS OF ANY KIND, either express or implied. See the License for the specific language governing permissions and limitations under the License."
   ]
  },
  {
   "cell_type": "markdown",
   "metadata": {},
   "source": [
    "# Invoking VISION API to identify happy images"
   ]
  },
  {
   "cell_type": "code",
   "execution_count": 68,
   "metadata": {},
   "outputs": [
    {
     "name": "stdout",
     "output_type": "stream",
     "text": [
      "VERY_UNLIKELY\n",
      "Not a face\n",
      "VERY_UNLIKELY\n",
      "Not a face\n"
     ]
    }
   ],
   "source": [
    "# Running Vision API\n",
    "import requests \n",
    "import base64\n",
    "\n",
    "IMAGES = [\"gs://cloud-training-demos/images/met/APS6880.jpg\", \n",
    "          \"gs://cloud-training-demos/images/met/DP205018.jpg\", \n",
    "          \"gs://cloud-training-demos/images/met/DP290402.jpg\", \n",
    "          \"gs://cloud-training-demos/images/met/DP700302.jpg\"\n",
    "         ]\n",
    "\n",
    "for IMAGE in IMAGES:\n",
    "    vservice = build('vision', 'v1', developerKey=APIKEY)\n",
    "    request = vservice.images().annotate(body={\n",
    "            'requests': [{\n",
    "                    'image': {\n",
    "                        'source': {\n",
    "                            'imageUri': IMAGE\n",
    "                        }\n",
    "                    },\n",
    "                    'features': [{\n",
    "                        'type': 'FACE_DETECTION',\n",
    "                        'maxResults': 10,\n",
    "                    }]\n",
    "                }],\n",
    "            })\n",
    "    responses = request.execute(num_retries=3)\n",
    "    try:\n",
    "        output = responses['responses'][0]['faceAnnotations'][0]['joyLikelihood']\n",
    "        print(output)\n",
    "    except KeyError:\n",
    "        print('Not a face')"
   ]
  },
  {
   "cell_type": "code",
   "execution_count": 64,
   "metadata": {},
   "outputs": [
    {
     "name": "stdout",
     "output_type": "stream",
     "text": [
      "{'responses': [{'labelAnnotations': [{'mid': '/m/06z37_', 'description': 'Picture frame', 'score': 0.81468064, 'topicality': 0.81468064}, {'mid': '/m/01ys2s', 'description': 'Antique', 'score': 0.8047346, 'topicality': 0.8047346}, {'mid': '/m/0jwzhtg', 'description': 'Carving', 'score': 0.7673912, 'topicality': 0.7673912}, {'mid': '/m/083vt', 'description': 'Wood', 'score': 0.5958532, 'topicality': 0.5958532}, {'mid': '/m/0j62f', 'description': 'Rectangle', 'score': 0.5338103, 'topicality': 0.5338103}, {'mid': '/m/04t7l', 'description': 'Metal', 'score': 0.5114516, 'topicality': 0.5114516}]}]}\n"
     ]
    }
   ],
   "source": [
    "# Running Vision API\n",
    "import requests \n",
    "import base64\n",
    "\n",
    "IMAGE = \"gs://cloud-training-demos/images/met/DP700302.jpg\"\n",
    "vservice = build('vision', 'v1', developerKey=APIKEY)\n",
    "request = vservice.images().annotate(body={\n",
    "        'requests': [{\n",
    "                'image': {\n",
    "                    'source': {\n",
    "                        'imageUri': IMAGE\n",
    "                    }\n",
    "                },\n",
    "                'features': [{\n",
    "                    'type': 'LABEL_DETECTION',\n",
    "                    'maxResults': 10,\n",
    "                }]\n",
    "            }],\n",
    "        })\n",
    "responses = request.execute(num_retries=3)\n",
    "print(responses)"
   ]
  },
  {
   "cell_type": "code",
   "execution_count": null,
   "metadata": {},
   "outputs": [],
   "source": []
  }
 ],
 "metadata": {
  "kernelspec": {
   "display_name": "Python 3",
   "language": "python",
   "name": "python3"
  },
  "language_info": {
   "codemirror_mode": {
    "name": "ipython",
    "version": 3
   },
   "file_extension": ".py",
   "mimetype": "text/x-python",
   "name": "python",
   "nbconvert_exporter": "python",
   "pygments_lexer": "ipython3",
   "version": "3.7.6"
  }
 },
 "nbformat": 4,
 "nbformat_minor": 4
}
